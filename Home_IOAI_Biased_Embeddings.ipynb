{
  "cells": [
    {
      "cell_type": "markdown",
      "metadata": {
        "id": "view-in-github",
        "colab_type": "text"
      },
      "source": [
        "<a href=\"https://colab.research.google.com/github/Parlipuudja/G2R-AT-2024/blob/main/Home_IOAI_Biased_Embeddings.ipynb\" target=\"_parent\"><img src=\"https://colab.research.google.com/assets/colab-badge.svg\" alt=\"Open In Colab\"/></a>"
      ]
    },
    {
      "cell_type": "markdown",
      "metadata": {
        "id": "4gqe2Po4u1GK"
      },
      "source": [
        "##Task 1: Create word vectors\n",
        "\n",
        "One popular method for obtaining word vectors is to use a pre-trained model such as Word2Vec or GloVe (Global Vectors for Word Representation).\n",
        "\n",
        "🎯 The goal of is to get familiar with GloVe (Global Vectors for Word Representation), a pre-trained model used to create word vectors.\n",
        "\n",
        "Deliverables: Extract vectors for the example words provided below and then save them in a txt file. You should deliver (1) the txt file with the words and their corresponding vectors (2) a read_glove_vecs python function that reads the words and vectors from your .txt file like:\n",
        "\n",
        "```\n",
        "words, word_to_vec_map = read_glove_vecs('w2v_gnews_small.txt')\n",
        "```"
      ]
    },
    {
      "cell_type": "markdown",
      "metadata": {
        "id": "6H0w6XUXcrJk"
      },
      "source": [
        "# Word Vectors Gone Wrong: Fixing Gender Stereotypes in Language Models\n",
        "\n",
        "## Problem Description\n",
        "\n",
        "Language models process words as arrays of numbers, called word vectors (or word embeddings). These vectors are created based on the usage of the words in context, so they capture the distributional properties of words. Word vectors can be conceptualized as unique coordinates in a multi-dimensional space, with the distance between them capturing the semantic and syntactic relations between words.\n",
        "\n",
        "In a seminal [article](https://aclanthology.org/P16-1158/) Ekaterina Vylomova and colleagues show that word vectors trained on English data exhibit a curious property: the spatial difference between the vectors of 'king' and 'queen' is the same as the difference between the vectors of 'man' and 'woman'. This difference essentially captures **gender**. Similarly, the difference between 'king' and 'man' is the same as that between 'queen' and 'woman', capturing the notion of royalty.\n",
        "\n",
        "The way gender is reflected in word vectors has received special attention in NLP, because while sometimes word vectors capture true gender roles (e.g. a king is by definition male), other times they capture undesirable societal biases, e.g. they place 'engineer' and 'man' in the same relationship as 'housekeeper' and 'woman'. This does not seem fair, given that professions such as engineer or housekeeper should be non-gender specific.\n",
        "\n",
        "![](https://i.ibb.co/RNjF8MH/Screenshot-2023-11-22-at-16-01-27.png)\n",
        "\n",
        "We don't want to have models that promote stereotypes about which jobs are suitable for men or women, so we should find a way to fix this problem. The tasks presented in this notebook will guide you to one possible solution.\n",
        "\n",
        "## Technical Specifications\n",
        "\n",
        "All team solutions should be submitted as a modified and compiled copy of this base notebook. You also need to provide a file of the word vectors you created.\n",
        "\n",
        "The notebook contains specific tasks you need to accomplish and provides code when necessary. Some cells, marked with the `###DO NOT CHANGE THIS CELL###` comment, have to remain as they are. Other cells can be changed, especially the ones saying `###YOUR CODE GOES HERE###` should be changed to complete the tasks.\n",
        "\n",
        "\n",
        "Your goal is to get familiar with word vectors and the problem of bias which is a common issue in Artificial Intelligence applications.\n",
        "\n",
        "## Resources\n",
        "\n",
        "You can read more on gender bias in word vectors in the paper [Man is to Computer Programmer as Woman is to Homemaker? Debiasing Word Embeddings](https://proceedings.neurips.cc/paper_files/paper/2016/file/a486cd07e4ac3d270571622f4f316ec5-Paper.pdf) by Tolga Bolukbasi, Kai-Wei Chang, James Zou, Venkatesh Saligrama, and Adam Kalai. Proceedings of NIPS 2016.\n",
        "\n",
        "There are some articles/tutorials online that explain the main concepts of the paper (neutralization and equalization of word vectors) such as [Debiasing Word Embeddings with Geometry](https://medium.com/@mihird97/debiasing-word-embeddings-with-geometry-d2c471ab4ae6).\n",
        "\n",
        "\n"
      ]
    },
    {
      "cell_type": "code",
      "execution_count": null,
      "metadata": {
        "colab": {
          "background_save": true,
          "base_uri": "https://localhost:8080/"
        },
        "id": "aDY_J3KN6V6m",
        "outputId": "139bb349-7f11-4b41-f8cc-1630086cac66"
      },
      "outputs": [
        {
          "name": "stdout",
          "output_type": "stream",
          "text": [
            "[==================================================] 100.0% 128.1/128.1MB downloaded\n"
          ]
        }
      ],
      "source": [
        "import numpy as np\n",
        "from scipy import spatial\n",
        "import gensim.downloader as api\n",
        "\n",
        "# Download pre-trained GloVe word vectors\n",
        "glove_vectors = api.load(\"glove-wiki-gigaword-100\")"
      ]
    },
    {
      "cell_type": "code",
      "execution_count": null,
      "metadata": {
        "colab": {
          "base_uri": "https://localhost:8080/",
          "height": 219
        },
        "id": "gxHgX4MZ5n-U",
        "outputId": "1e106d49-67dc-4ab1-bcad-4f5d9f250e19"
      },
      "outputs": [
        {
          "output_type": "error",
          "ename": "NameError",
          "evalue": "name 'glove_vectors' is not defined",
          "traceback": [
            "\u001b[0;31m---------------------------------------------------------------------------\u001b[0m",
            "\u001b[0;31mNameError\u001b[0m                                 Traceback (most recent call last)",
            "\u001b[0;32m<ipython-input-1-ce73dc02c176>\u001b[0m in \u001b[0;36m<cell line: 2>\u001b[0;34m()\u001b[0m\n\u001b[1;32m      1\u001b[0m \u001b[0;31m# Get the word vectors\u001b[0m\u001b[0;34m\u001b[0m\u001b[0;34m\u001b[0m\u001b[0m\n\u001b[0;32m----> 2\u001b[0;31m \u001b[0mman_vector\u001b[0m \u001b[0;34m=\u001b[0m \u001b[0mglove_vectors\u001b[0m\u001b[0;34m[\u001b[0m\u001b[0;34m'man'\u001b[0m\u001b[0;34m]\u001b[0m\u001b[0;34m\u001b[0m\u001b[0;34m\u001b[0m\u001b[0m\n\u001b[0m\u001b[1;32m      3\u001b[0m \u001b[0mwoman_vector\u001b[0m \u001b[0;34m=\u001b[0m \u001b[0mglove_vectors\u001b[0m\u001b[0;34m[\u001b[0m\u001b[0;34m'woman'\u001b[0m\u001b[0;34m]\u001b[0m\u001b[0;34m\u001b[0m\u001b[0;34m\u001b[0m\u001b[0m\n\u001b[1;32m      4\u001b[0m \u001b[0mengineer_vector\u001b[0m \u001b[0;34m=\u001b[0m \u001b[0mglove_vectors\u001b[0m\u001b[0;34m[\u001b[0m\u001b[0;34m'engineer'\u001b[0m\u001b[0;34m]\u001b[0m\u001b[0;34m\u001b[0m\u001b[0;34m\u001b[0m\u001b[0m\n\u001b[1;32m      5\u001b[0m \u001b[0mhousekeeper_vector\u001b[0m \u001b[0;34m=\u001b[0m \u001b[0mglove_vectors\u001b[0m\u001b[0;34m[\u001b[0m\u001b[0;34m'housekeeper'\u001b[0m\u001b[0;34m]\u001b[0m\u001b[0;34m\u001b[0m\u001b[0;34m\u001b[0m\u001b[0m\n",
            "\u001b[0;31mNameError\u001b[0m: name 'glove_vectors' is not defined"
          ]
        }
      ],
      "source": [
        "# Get the word vectors\n",
        "man_vector = glove_vectors['man']\n",
        "woman_vector = glove_vectors['woman']\n",
        "engineer_vector = glove_vectors['engineer']\n",
        "housekeeper_vector = glove_vectors['housekeeper']\n",
        "\n",
        "# Calculate cosine similarities\n",
        "man_woman_sim = 1 - spatial.distance.cosine(man_vector, woman_vector)#here\n",
        "woman_engineer_sim = 1 - spatial.distance.cosine(woman_vector, engineer_vector)\n",
        "man_engineer_sim = 1 - spatial.distance.cosine(man_vector, engineer_vector)\n",
        "woman_housekeeper = 1 - spatial.distance.cosine(woman_vector, housekeeper_vector)\n",
        "man_housekeeper = 1 - spatial.distance.cosine(man_vector, housekeeper_vector)\n",
        "\n",
        "print(\"Similarity between man and woman\", man_woman_sim)\n",
        "print(\"Similarity between man and engineer\", man_engineer_sim)\n",
        "print(\"Similarity between woman and engineer\", woman_engineer_sim)\n",
        "print(\"Similarity between man and housekeeper\", man_housekeeper)\n",
        "print(\"Similarity between woman and housekeeper\", woman_housekeeper)"
      ]
    },
    {
      "cell_type": "markdown",
      "metadata": {
        "id": "TCxjWt6Zog4z"
      },
      "source": [
        "You should extract word vectors from the following lists. Make sure you save them in a .txt file with a name of your choice. The file should just contain a words and their corresponding vector seperated by space. The next word should start from a new line."
      ]
    },
    {
      "cell_type": "code",
      "execution_count": null,
      "metadata": {
        "id": "3r3CR1Jannqh"
      },
      "outputs": [],
      "source": [
        "# Here are the lists of words you should extract word vectors from GloVe, combine all lists in one file\n",
        "\n",
        "professions = [\"doctor\", \"lawyer\", \"engineer\", \"nurse\", \"teacher\", \"accountant\", \"architect\", \"artist\", \"writer\", \"chef\", \"designer\", \"dentist\", \"entrepreneur\", \"firefighter\", \"journalist\", \"mechanic\", \"musician\", \"paramedic\", \"photographer\", \"psychologist\", \"scientist\", \"soldier\", \"surgeon\", \"vet\"]\n",
        "activities = [\"reading\", \"writing\", \"painting\", \"singing\", \"playing sports\", \"cooking\", \"traveling\", \"learning new languages\", \"volunteering\", \"working out\", \"meditating\", \"listening to music\", \"watching movies\", \"going to concerts\", \"attending sporting events\", \"exploring nature\", \"visiting museums\", \"trying new foods\", \"shopping\"]\n",
        "items = [\"phone\", \"computer\", \"car\", \"house\", \"job\", \"school\", \"family\", \"friends\", \"food\", \"drink\", \"toys\", \"books\", \"movies\", \"concerts\", \"sports\", \"outdoor gear\", \"electronics\", \"home decor\", \"furniture\", \"clothing\", \"beauty products\"]\n",
        "names = [\"Alex\", \"Charlotte\", \"David\", \"Emma\", \"Ethan\", \"Isabella\", \"Lily\", \"Oliver\", \"Sophia\", \"William\"]"
      ]
    },
    {
      "cell_type": "markdown",
      "metadata": {
        "id": "F7tR1cKCK2ae"
      },
      "source": [
        "It is common practice to save the word embeddings into a .txt format file and then load them with a function like:\n",
        "\n",
        "`words, word_to_vec_map = read_glove_vecs('w2v_gnews_small.txt')`\n",
        "\n",
        "You should create a function named 'read_glove_vecs' to open and read the .txt file with the word vectors."
      ]
    },
    {
      "cell_type": "code",
      "execution_count": null,
      "metadata": {
        "id": "DUqHg2RR-rTN"
      },
      "outputs": [],
      "source": [
        "words = \" \".join(professions + activities + items + names).lower().split(\" \")\n",
        "with open(\"w2v_gnews_small.txt\", \"w\") as f:\n",
        "    for word in words:\n",
        "        f.write(f\"{word} {list(glove_vectors[word])}\\n\")"
      ]
    },
    {
      "cell_type": "code",
      "execution_count": null,
      "metadata": {
        "id": "Pt-sVzM7DCVa"
      },
      "outputs": [],
      "source": [
        "import numpy as np\n",
        "\n",
        "def read_glove_vecs(path):\n",
        "    words, map = list(), dict()\n",
        "    with open(path, \"r\") as f:\n",
        "        for line in f.readlines():\n",
        "            word, vec = line.split(\" \", 1)\n",
        "            words.append(word)\n",
        "            map[word] = np.array(eval(vec)) # Insecure; Allows for arbritary code execution. But we made this text file so we trust it\n",
        "    return words, map\n",
        "\n",
        "words, word_to_vec_map = read_glove_vecs('w2v_gnews_small.txt')"
      ]
    },
    {
      "cell_type": "markdown",
      "metadata": {
        "id": "HjltpMXUqYEE"
      },
      "source": [
        "## Task 2 - Implement Cosine Similarity\n",
        "\n",
        "We can measure how similar are two words using cosine similarity. We would expect non-gender specific words to be equally distant from gender specific words.\n",
        "\n",
        "🎯 The goal is to get familiar with calculating cosince similarity using python and try to find similar words that are an example of bias and unbiased vectors. We can measure how similar two words are using cosine similarity!\n",
        "\n",
        "Deliverables: Provide code for implementing cosine distance in Python. Run the example words, and try measuring the distance of different words. Can you find a biased and an unbiased example?"
      ]
    },
    {
      "cell_type": "markdown",
      "metadata": {
        "id": "q8EJ6U-JIIBy"
      },
      "source": [
        "\n",
        "To calculate cosine similarity, we need to take the cosine of the angle between these two vectors. Here are the steps:\n",
        "\n",
        "1. Calculate the dot product of A and B\n",
        "   - Multiply each element in A with the corresponding element in B\n",
        "   - Sum all those products\n",
        "   - Call this dot_product\n",
        "\n",
        "2. Calculate the magnitudes (or lengths) of A and B\n",
        "   - Square each element in A, sum them, and take the square root. Let's call this mag_A.\n",
        "   - Do the same for B. Let's call this mag_B.\n",
        "\n",
        "3. Compute cosine similarity:\n",
        "   cosine_similarity = dot_product / (mag_A * mag_B)\n",
        "\n",
        "The closer this value is to 1, the smaller the angle and the more similar document A is to document B.\n",
        "\n",
        "Thanks to Python, you do not need to do these time-consuming calculations manually! Especially for step 1 and step 2, there is a library called 'numpy' with functions that can help you implement cosine distance in Python!"
      ]
    },
    {
      "cell_type": "code",
      "execution_count": null,
      "metadata": {
        "id": "zqkHs8YvGSAw"
      },
      "outputs": [],
      "source": [
        "def cosine_similarity(u, v):\n",
        "    \"\"\"\n",
        "    Cosine similarity reflects the degree of similariy between u and v\n",
        "\n",
        "    Arguments:\n",
        "        u -- a word vector of shape (n,)\n",
        "        v -- a word vector of shape (n,)\n",
        "\n",
        "    Returns:\n",
        "        cosine_similarity -- the cosine similarity between u and v defined by the formula above.\n",
        "    \"\"\"\n",
        "\n",
        "    distance = 0.0\n",
        "\n",
        "    ### START CODE HERE ###\n",
        "    # Compute the dot product between u and v (≈1 line)\n",
        "    dot = np.dot(u,v)\n",
        "    # Compute the L2 norm of u (≈1 line)\n",
        "    norm_u = np.linalg.norm(u)\n",
        "\n",
        "    # Compute the L2 norm of v (≈1 line)\n",
        "    norm_v = np.linalg.norm(v)\n",
        "    # Compute the cosine similarity defined by formula (1) (≈1 line)\n",
        "    cosine_similarity = dot/(norm_u * norm_v)\n",
        "    ### END CODE HERE ###\n",
        "\n",
        "    return cosine_similarity"
      ]
    },
    {
      "cell_type": "code",
      "execution_count": null,
      "metadata": {
        "colab": {
          "base_uri": "https://localhost:8080/"
        },
        "id": "5vhCtpyVGSC8",
        "outputId": "7f09f99c-f4b2-41c7-8fa7-0658e273426a"
      },
      "outputs": [
        {
          "name": "stdout",
          "output_type": "stream",
          "text": [
            "cosine_similarity(father, mother) =  0.8656662\n",
            "cosine_similarity(woman, man) =  0.83234936\n",
            "cosine_similarity(mother - woman, father - man) =  0.7574772\n"
          ]
        }
      ],
      "source": [
        "father = glove_vectors[\"father\"]\n",
        "mother = glove_vectors[\"mother\"]\n",
        "woman = glove_vectors[\"woman\"]\n",
        "man = glove_vectors[\"man\"]\n",
        "\n",
        "\n",
        "print(\"cosine_similarity(father, mother) = \", cosine_similarity(father, mother))\n",
        "print(\"cosine_similarity(woman, man) = \",cosine_similarity(woman, man))\n",
        "print(\"cosine_similarity(mother - woman, father - man) = \",cosine_similarity(mother - woman, father - man))"
      ]
    },
    {
      "cell_type": "code",
      "execution_count": null,
      "metadata": {
        "colab": {
          "base_uri": "https://localhost:8080/"
        },
        "id": "-zgiOKWyGSEp",
        "outputId": "b58e0667-6f11-4ecb-eda4-f26849bd1393"
      },
      "outputs": [
        {
          "name": "stdout",
          "output_type": "stream",
          "text": [
            "cosine_similarity(father, businessman) =  0.54458094\n",
            "cosine_similarity(mother, businesswoman) =  0.34816504\n"
          ]
        }
      ],
      "source": [
        "father = glove_vectors[\"father\"]\n",
        "mother = glove_vectors[\"mother\"]\n",
        "businesswoman = glove_vectors[\"businesswoman\"]\n",
        "businessman = glove_vectors[\"businessman\"]\n",
        "\n",
        "print(\"cosine_similarity(father, businessman) = \", cosine_similarity(father, businessman))\n",
        "print(\"cosine_similarity(mother, businesswoman) = \",cosine_similarity(mother, businesswoman))"
      ]
    },
    {
      "cell_type": "code",
      "execution_count": null,
      "metadata": {
        "colab": {
          "base_uri": "https://localhost:8080/"
        },
        "id": "LcKKFCYWJdPk",
        "outputId": "47c6cc68-1158-4226-a747-e2008a01b2d2"
      },
      "outputs": [
        {
          "name": "stdout",
          "output_type": "stream",
          "text": [
            "cosine_similarity(man, doctor) =  0.60921615\n",
            "cosine_similarity(woman, doctor) =  0.6333479\n",
            "cosine_similarity(woman, nurse) =  0.6139443\n",
            "cosine_similarity(man, nurse) =  0.6139443\n",
            "cosine_similarity(nurse, doctor) =  0.75215083\n"
          ]
        }
      ],
      "source": [
        "man = glove_vectors[\"man\"]\n",
        "woman = glove_vectors[\"woman\"]\n",
        "nurse = glove_vectors[\"nurse\"]\n",
        "doctor = glove_vectors[\"doctor\"]\n",
        "\n",
        "print(\"cosine_similarity(man, doctor) = \", cosine_similarity(man, doctor))\n",
        "print(\"cosine_similarity(woman, doctor) = \", cosine_similarity(woman, doctor))\n",
        "print(\"cosine_similarity(woman, nurse) = \",cosine_similarity(woman, nurse))\n",
        "print(\"cosine_similarity(man, nurse) = \",cosine_similarity(woman, nurse))\n",
        "print(\"cosine_similarity(nurse, doctor) = \",cosine_similarity(nurse, doctor))"
      ]
    },
    {
      "cell_type": "markdown",
      "metadata": {
        "id": "dBbcyxv0Pm0b"
      },
      "source": [
        "This is the code for computing word analogy given three words (word_a, word_b, word_c), or for example ('man', 'father', 'woman'), the following code find the word vector of a word that completes the analogy. In this example the word vector we expect is 'mother'."
      ]
    },
    {
      "cell_type": "code",
      "execution_count": null,
      "metadata": {
        "colab": {
          "base_uri": "https://localhost:8080/"
        },
        "id": "FTKh2OqAGSG2",
        "outputId": "bfd70fff-7160-495f-c6df-925caf32acf3"
      },
      "outputs": [
        {
          "name": "stdout",
          "output_type": "stream",
          "text": [
            "cosine_similarity(mother - woman, father - man) =  0.7574772\n"
          ]
        }
      ],
      "source": [
        "print(\"cosine_similarity(mother - woman, father - man) = \", cosine_similarity(woman - mother, man - father))"
      ]
    },
    {
      "cell_type": "markdown",
      "metadata": {
        "id": "mLK9-i5JSjOH"
      },
      "source": [
        "## Task 3: Remove bias from word vectors\n",
        "\n",
        "After getting familiar with all the tools we need, now it's time to actually solve the problem of bias in word vectors.\n",
        "\n",
        "🎯 The goal is to implement a neutralize and equalize Python functions to remove the bias from the word vectors.\n",
        "\n",
        "Deliverables: (1) Complete the python code for the neutralize and equalize python functions following [Man is to Computer Programmer as Woman is to Homemaker? Debiasing Word Embeddings](https://proceedings.neurips.cc/paper_files/paper/2016/file/a486cd07e4ac3d270571622f4f316ec5-Paper.pdf) by Tolga Bolukbasi, Kai-Wei Chang, James Zou, Venkatesh Saligrama, and Adam Kalai. Proceedings of NIPS 2016. The code should run without any errors. (2) Provide examples before and after removing bias."
      ]
    },
    {
      "cell_type": "markdown",
      "metadata": {
        "id": "lQHPH-1t4ULQ"
      },
      "source": [
        "To remove the gender bias from non-gender specific word vectors, we need represent the semantic concept of gender as a vector. We can approximate that vector by subtracting female and male word vectors. This means we can compute a vector 'vgender = v1 - v2', where 'v1' represents the word vector corresponding to the word woman, and 'v2' corresponds to the word vector corresponding to the word man. The resulting vector roughly encodes the concept of \"gender\"."
      ]
    },
    {
      "cell_type": "code",
      "execution_count": null,
      "metadata": {
        "id": "kCiGhE4VG5Kf"
      },
      "outputs": [],
      "source": [
        "word_to_vec_map = glove_vectors"
      ]
    },
    {
      "cell_type": "code",
      "execution_count": null,
      "metadata": {
        "id": "T-CTO9ESOasA"
      },
      "outputs": [],
      "source": [
        "vgender = word_to_vec_map['woman'] - word_to_vec_map['man']\n",
        "print(vgender)"
      ]
    },
    {
      "cell_type": "markdown",
      "metadata": {
        "id": "ikjuRnrkXDS6"
      },
      "source": [
        "Now, you will consider the cosine similarity of different words with vgender. A positive value of similarity means that the words are closer to 'woman' and a negative cosine similarity means the words are closer to 'man'."
      ]
    },
    {
      "cell_type": "code",
      "execution_count": null,
      "metadata": {
        "id": "9kuUi4ERLre4"
      },
      "outputs": [],
      "source": [
        "print ('List of names and their similarities with constructed vector:')\n",
        "\n",
        "# girls and boys name\n",
        "name_list = ['john', 'anna', 'sophie', 'ronaldo', 'shakira', 'mario', 'maria', 'tom', 'katy']\n",
        "\n",
        "for w in name_list:\n",
        "    print (w, cosine_similarity(word_to_vec_map[w], vgender))"
      ]
    },
    {
      "cell_type": "markdown",
      "metadata": {
        "id": "wBBMvt10XkZU"
      },
      "source": [
        "As you can see, female first names tend to have a positive cosine similarity with our constructed vector\n",
        ", while male first names tend to have a negative cosine similarity. This is not suprising, and the result seems acceptable.\n",
        "\n",
        "But let's try with some other words."
      ]
    },
    {
      "cell_type": "code",
      "execution_count": null,
      "metadata": {
        "id": "jWYlM-6ILrgt"
      },
      "outputs": [],
      "source": [
        "print('Other words and their similarities:')\n",
        "word_list = ['lipstick', 'guns', 'science', 'arts', 'literature', 'warrior','doctor', 'tree', 'receptionist',\n",
        "             'technology',  'fashion', 'teacher', 'engineer', 'pilot', 'computer', 'singer']\n",
        "for w in word_list:\n",
        "    print (w, cosine_similarity(word_to_vec_map[w], vgender))"
      ]
    },
    {
      "cell_type": "markdown",
      "metadata": {
        "id": "MeO1JJMKX502"
      },
      "source": [
        "Do you notice anything surprising? It is astonishing how these results reflect certain unhealthy gender stereotypes. For example, \"computer\" is closer to \"man\" while \"literature\" is closer to \"woman\". Ouch!\n",
        "\n",
        "We'll see below how to reduce the bias of these vectors, using an algorithm due to Boliukbasi et al., 2016. Note that some word pairs such as \"actor\"/\"actress\" or \"grandmother\"/\"grandfather\" should remain gender specific, while other words such as \"receptionist\" or \"technology\" should be neutralized, i.e. not be gender-related. You will have to treat these two type of words differently when debiasing."
      ]
    },
    {
      "cell_type": "markdown",
      "metadata": {
        "id": "hMjnbHM4YAtg"
      },
      "source": [
        "\n",
        "An approach to remove the bias would be to neutralize and equalize the bias for non-gender specific words, following Bolukbasi et al, 2016.\n",
        "\n",
        "> Tolga Bolukbasi, Kai-Wei Chang, James Zou, Venkatesh Saligrama, and Adam Kalai. 2016. Man is to computer programmer as woman is to homemaker? debiasing word embeddings. In Proceedings of the 30th International Conference on Neural Information Processing Systems (NIPS'16). Curran Associates Inc., Red Hook, NY, USA, 4356-4364."
      ]
    },
    {
      "cell_type": "code",
      "execution_count": null,
      "metadata": {
        "id": "3j5LVB38Lrkp"
      },
      "outputs": [],
      "source": [
        "def neutralize(word, g, word_to_vec_map):\n",
        "    \"\"\"\n",
        "    Removes the bias of \"word\" by projecting it on the space orthogonal to the bias axis.\n",
        "    This function ensures that gender neutral words are zero in the gender subspace.\n",
        "\n",
        "    Arguments:\n",
        "        word -- string indicating the word to debias\n",
        "        g -- numpy-array of shape (50,), corresponding to the bias axis (such as gender)\n",
        "        word_to_vec_map -- dictionary mapping words to their corresponding vectors.\n",
        "\n",
        "    Returns:\n",
        "        e_debiased -- neutralized word vector representation of the input \"word\"\n",
        "    \"\"\"\n",
        "\n",
        "    ### START CODE HERE ###\n",
        "    # Select word vector representation of \"word\". Use word_to_vec_map. (≈ 1 line)\n",
        "    e = word_to_vec_map[word]\n",
        "\n",
        "    # Compute e_biascomponent using the formula give above. (≈ 1 line)\n",
        "    e_biascomponent = np.dot(e,g) / (np.linalg.norm(g))**2 * g\n",
        "\n",
        "    # Neutralize e by substracting e_biascomponent from it\n",
        "    # e_debiased should be equal to its orthogonal projection. (≈ 1 line)\n",
        "    e_debiased = e - e_biascomponent\n",
        "    ### END CODE HERE ###\n",
        "\n",
        "    return e_debiased"
      ]
    },
    {
      "cell_type": "code",
      "execution_count": null,
      "metadata": {
        "id": "guR-_udRLrms"
      },
      "outputs": [],
      "source": [
        "e = \"receptionist\"\n",
        "print(\"cosine similarity between \" + e + \" and vgender, before neutralizing: \", cosine_similarity(word_to_vec_map[\"receptionist\"], vgender))\n",
        "\n",
        "e_debiased = neutralize(\"receptionist\", vgender, word_to_vec_map)\n",
        "print(\"cosine similarity between \" + e + \" and vgender, after neutralizing: \", cosine_similarity(e_debiased, vgender))"
      ]
    },
    {
      "cell_type": "markdown",
      "metadata": {
        "id": "gXsIwPgsYvAw"
      },
      "source": [
        "Next, lets see how debiasing can also be applied to word pairs such as \"actress\" and \"actor.\" Equalization is applied to pairs of words that you might want to have differ only through the gender property. As a concrete example, suppose that \"actress\" is closer to \"babysit\" than \"actor.\" By applying neutralizing to \"babysit\" we can reduce the gender-stereotype associated with babysitting. But this still does not guarantee that \"actor\" and \"actress\" are equidistant from \"babysit.\" The equalization algorithm takes care of this.\n",
        "\n",
        "The key idea behind equalization is to make sure that a particular pair of words are equally distant."
      ]
    },
    {
      "cell_type": "code",
      "execution_count": null,
      "metadata": {
        "id": "4e-z0teTLrox"
      },
      "outputs": [],
      "source": [
        "def equalize(pair, bias_axis, word_to_vec_map):\n",
        "    \"\"\"\n",
        "    Debias gender specific words by following the equalize method described in the figure above.\n",
        "\n",
        "    Arguments:\n",
        "    pair -- pair of strings of gender specific words to debias, e.g. (\"actress\", \"actor\")\n",
        "    bias_axis -- numpy-array of shape (50,), vector corresponding to the bias axis, e.g. gender\n",
        "    word_to_vec_map -- dictionary mapping words to their corresponding vectors\n",
        "\n",
        "    Returns\n",
        "    e_1 -- word vector corresponding to the first word\n",
        "    e_2 -- word vector corresponding to the second word\n",
        "    \"\"\"\n",
        "\n",
        "    ### START CODE HERE ###\n",
        "    # Step 1: Select word vector representation of \"word\". Use word_to_vec_map. (≈ 2 lines)\n",
        "    w1, w2 = pair\n",
        "    e_w1, e_w2 = word_to_vec_map[w1], word_to_vec_map[w2]\n",
        "\n",
        "    # Step 2: Compute the mean of e_w1 and e_w2 (≈ 1 line)\n",
        "    mu = (e_w1 + e_w2) / 2\n",
        "\n",
        "    # Step 3: Compute the projections of mu over the bias axis and the orthogonal axis (≈ 2 lines)\n",
        "    mu_B = np.dot(mu,bias_axis) / (np.linalg.norm(bias_axis))**2 * bias_axis\n",
        "    mu_orth = mu - mu_B\n",
        "\n",
        "    # Step 4: Use equations (7) and (8) to compute e_w1B and e_w2B (≈2 lines)\n",
        "    e_w1B = np.dot(e_w1,bias_axis) / (np.linalg.norm(bias_axis))**2 * bias_axis\n",
        "    e_w2B = np.dot(e_w2,bias_axis) / (np.linalg.norm(bias_axis))**2 * bias_axis\n",
        "\n",
        "    # Step 5: Adjust the Bias part of e_w1B and e_w2B using the formulas (9) and (10) given above (≈2 lines)\n",
        "    corrected_e_w1B = np.sqrt(np.linalg.norm(1-np.linalg.norm(mu_orth)**2)) * (e_w1B - mu_B) / np.linalg.norm(e_w1 - mu_orth - mu_B)\n",
        "    corrected_e_w2B = np.sqrt(np.linalg.norm(1-np.linalg.norm(mu_orth)**2)) * (e_w2B - mu_B) / np.linalg.norm(e_w2 - mu_orth - mu_B)\n",
        "\n",
        "    # Step 6: Debias by equalizing e1 and e2 to the sum of their corrected projections (≈2 lines)\n",
        "    e1 = corrected_e_w1B + mu_orth\n",
        "    e2 = corrected_e_w2B + mu_orth\n",
        "\n",
        "    ### END CODE HERE ###\n",
        "\n",
        "    return e1, e2"
      ]
    },
    {
      "cell_type": "code",
      "execution_count": null,
      "metadata": {
        "id": "nFnDkomcLrq3"
      },
      "outputs": [],
      "source": [
        "print(\"cosine similarities before equalizing:\")\n",
        "print(\"cosine_similarity(word_to_vec_map[\\\"man\\\"], gender) = \", cosine_similarity(word_to_vec_map[\"man\"], vgender))\n",
        "print(\"cosine_similarity(word_to_vec_map[\\\"woman\\\"], gender) = \", cosine_similarity(word_to_vec_map[\"woman\"], vgender))\n",
        "print()\n",
        "e1, e2 = equalize((\"man\", \"woman\"), vgender, word_to_vec_map)\n",
        "print(\"cosine similarities after equalizing:\")\n",
        "print(\"cosine_similarity(e1, gender) = \", cosine_similarity(e1, vgender))\n",
        "print(\"cosine_similarity(e2, gender) = \", cosine_similarity(e2, vgender))"
      ]
    }
  ],
  "metadata": {
    "colab": {
      "provenance": [],
      "include_colab_link": true
    },
    "kernelspec": {
      "display_name": "Python 3",
      "name": "python3"
    },
    "language_info": {
      "name": "python"
    }
  },
  "nbformat": 4,
  "nbformat_minor": 0
}